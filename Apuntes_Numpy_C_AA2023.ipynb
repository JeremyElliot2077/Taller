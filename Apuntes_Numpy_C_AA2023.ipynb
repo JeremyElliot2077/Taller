{
  "cells": [
    {
      "cell_type": "markdown",
      "metadata": {
        "id": "view-in-github",
        "colab_type": "text"
      },
      "source": [
        "<a href=\"https://colab.research.google.com/github/JeremyElliot2077/Taller/blob/main/Apuntes_Numpy_C_AA2023.ipynb\" target=\"_parent\"><img src=\"https://colab.research.google.com/assets/colab-badge.svg\" alt=\"Open In Colab\"/></a>"
      ]
    },
    {
      "cell_type": "code",
      "source": [
        "import numpy as np\n",
        "\n",
        "# listas\n",
        "pesos = [1.2, 1.4, 1.6]\n",
        "alturas = [2.1, 1.5, 1.1]\n",
        "\n",
        "# convertir a arreglos\n",
        "\n",
        "# calcular imc"
      ],
      "metadata": {
        "id": "vXIJpJeaQ3WB"
      },
      "execution_count": null,
      "outputs": []
    },
    {
      "cell_type": "code",
      "source": [],
      "metadata": {
        "id": "e0-YiCAKU6uX"
      },
      "execution_count": null,
      "outputs": []
    },
    {
      "cell_type": "code",
      "execution_count": null,
      "metadata": {
        "id": "LzupsbpIUya2"
      },
      "outputs": [],
      "source": [
        "table = [\n",
        "    [15, 8, 3, 16, 12, 7, 9, 5],\n",
        "    [6, 11, 9, 4, 1, 5, 8, 13],\n",
        "    [17, 3, 5, 18, 10, 6, 7, 21],\n",
        "    [8, 14, 13, 6, 13, 12, 8, 8],\n",
        "    [1, 9, 5, 16, 20, 2, 3, 9]\n",
        "]"
      ]
    },
    {
      "cell_type": "code",
      "source": [
        "table"
      ],
      "metadata": {
        "id": "StL9x91jyD4s"
      },
      "execution_count": null,
      "outputs": []
    },
    {
      "cell_type": "code",
      "source": [
        "# conversión de lista de listas en una matriz numpy\n",
        "np_table = np.array(table)"
      ],
      "metadata": {
        "id": "bNCc0ylr12QY"
      },
      "execution_count": null,
      "outputs": []
    },
    {
      "cell_type": "code",
      "source": [
        "np_table"
      ],
      "metadata": {
        "id": "Vf4cBkvt2Fx-"
      },
      "execution_count": null,
      "outputs": []
    },
    {
      "cell_type": "code",
      "source": [
        "type(table)"
      ],
      "metadata": {
        "id": "_C9-KYQW2HNp"
      },
      "execution_count": null,
      "outputs": []
    },
    {
      "cell_type": "code",
      "source": [
        "type(np_table)"
      ],
      "metadata": {
        "id": "EWpVTnpz2New"
      },
      "execution_count": null,
      "outputs": []
    },
    {
      "cell_type": "markdown",
      "source": [
        "# Retos"
      ],
      "metadata": {
        "id": "u6X7Wbn49Vsa"
      }
    },
    {
      "cell_type": "markdown",
      "metadata": {
        "id": "JXVxkbQnrHin"
      },
      "source": [
        "## 1.- Tu primer array NumPy\n",
        "En este capítulo, vamos a adentrarnos en el mundo del béisbol. En el camino, te sentirás cómodo con los aspectos básicos de Numpy, un poderoso paquete de Python para la ciencia de datos.\n",
        "\n",
        "Una lista baseball ha sido definida en el guión de Python, la cual representa la altura en centímetros de algunos jugadores de béisbol. ¿Puedes agregar algunas líneas de código para crear un array numpy de dicha lista?"
      ]
    },
    {
      "cell_type": "markdown",
      "metadata": {
        "id": "dXXtAUaRrHio"
      },
      "source": [
        "### Instrucciones\n",
        "\n",
        "- Importa el paquete numpy como np, asi podrás referirte a numpy como np.\n",
        "- Usa np.array() para crear un array numpy de la lista baseball. Llama a este array np_baseball.\n",
        "- Imprime el tipo de dato de np_baseball para verificar que lo hiciste correctamente.\n"
      ]
    },
    {
      "cell_type": "code",
      "execution_count": null,
      "metadata": {
        "colab": {
          "base_uri": "https://localhost:8080/"
        },
        "id": "yahYLqYhrHio",
        "outputId": "cd662242-faf5-4860-b1fb-afc51cdff495"
      },
      "outputs": [
        {
          "output_type": "stream",
          "name": "stdout",
          "text": [
            "<class 'numpy.ndarray'>\n",
            "[180 215 210 210 188 176 209 200]\n"
          ]
        }
      ],
      "source": [
        "# Importa el paquete Numpy como np\n",
        "import numpy as np\n",
        "\n",
        "# Crea la lista baseball\n",
        "baseball = [180, 215, 210, 210, 188, 176, 209, 200]\n",
        "\n",
        "# Crea el array Numpy de baseball: np_baseball\n",
        "\n",
        "\n",
        "# Imprime el tipo de np_baseball\n",
        "\n",
        "\n"
      ]
    },
    {
      "cell_type": "markdown",
      "metadata": {
        "id": "IlIzmOgDrHiq"
      },
      "source": [
        "## 2.- Altura de los jugadores de béisbol\n",
        "Eres un gran fan del béisbol y decidiste llamar a la MLB (Grandes Ligas de Béisbol) para preguntar sobre algunas estadisticas referentes a la altura de los jugadores principales. Ellos te pasan información sobre más de mil jugadores, los cuales están almacenados como una lista de Python: height. La altura está expresada en pulgadas. ¿Puedes crear un array numpy de la lista y convertir las unidades a metros?\n",
        "\n",
        "Tanto height como el paquete numpy se encuentran disponibles en el código, por lo que puedes empezar enseguida (Fuente: stat.ucla.edu)."
      ]
    },
    {
      "cell_type": "markdown",
      "metadata": {
        "id": "foFPqaUYrHir"
      },
      "source": [
        "## Instrucciones\n",
        "\n",
        "- Crea un array numpy de height. Llama a este array np_height.\n",
        "- Imprime np_height.\n",
        "- Multiplica np_height con 0.0254 para convertir todas las medidas de altura de pulgadas a metros. Guarda estos valores en un nuevo array llamado np_height_m.\n",
        "- Imprime np_height_m y revisa si el resultado tiene sentido.\n"
      ]
    },
    {
      "cell_type": "code",
      "execution_count": null,
      "metadata": {
        "id": "pIRHI6yNrHir"
      },
      "outputs": [],
      "source": [
        "# Ejecutar este bloque para que funcione ejemplos posteriores\n",
        "from data import *"
      ]
    },
    {
      "cell_type": "code",
      "source": [
        "print(height)"
      ],
      "metadata": {
        "colab": {
          "base_uri": "https://localhost:8080/"
        },
        "id": "mA6qhrfycgN3",
        "outputId": "959ea1f2-6b1a-4936-af82-5cf4f7d3a683"
      },
      "execution_count": null,
      "outputs": [
        {
          "output_type": "stream",
          "name": "stdout",
          "text": [
            "[74, 74, 72, 72, 73, 69, 69, 71, 76, 71, 73, 73, 74, 74, 69, 70, 73, 75, 78, 79, 76, 74, 76, 72, 71, 75, 77, 74, 73, 74, 78, 73, 75, 73, 75, 75, 74, 69, 71, 74, 73, 73, 76, 74, 74, 70, 72, 77, 74, 70, 73, 75, 76, 76, 78, 74, 74, 76, 77, 81, 78, 75, 77, 75, 76, 74, 72, 72, 75, 73, 73, 73, 70, 70, 70, 76, 68, 71, 72, 75, 75, 75, 75, 68, 74, 78, 71, 73, 76, 74, 74, 79, 75, 73, 76, 74, 74, 73, 72, 74, 73, 74, 72, 73, 69, 72, 73, 75, 75, 73, 72, 72, 76, 74, 72, 77, 74, 77, 75, 76, 80, 74, 74, 75, 78, 73, 73, 74, 75, 76, 71, 73, 74, 76, 76, 74, 73, 74, 70, 72, 73, 73, 73, 73, 71, 74, 74, 72, 74, 71, 74, 73, 75, 75, 79, 73, 75, 76, 74, 76, 78, 74, 76, 72, 74, 76, 74, 75, 78, 75, 72, 74, 72, 74, 70, 71, 70, 75, 71, 71, 73, 72, 71, 73, 72, 75, 74, 74, 75, 73, 77, 73, 76, 75, 74, 76, 75, 73, 71, 76, 75, 72, 71, 77, 73, 74, 71, 72, 74, 75, 73, 72, 75, 75, 74, 72, 74, 71, 70, 74, 77, 77, 75, 75, 78, 75, 76, 73, 75, 75, 79, 77, 76, 71, 75, 74, 69, 71, 76, 72, 72, 70, 72, 73, 71, 72, 71, 73, 72, 73, 74, 74, 72, 75, 74, 74, 77, 75, 73, 72, 71, 74, 77, 75, 75, 75, 78, 78, 74, 76, 78, 76, 70, 72, 80, 74, 74, 71, 70, 72, 71, 74, 71, 72, 71, 74, 69, 76, 75, 75, 76, 73, 76, 73, 77, 73, 72, 72, 77, 77, 71, 74, 74, 73, 78, 75, 73, 70, 74, 72, 73, 73, 75, 75, 74, 76, 73, 74, 75, 75, 72, 73, 73, 72, 74, 78, 76, 73, 74, 75, 70, 75, 71, 72, 78, 75, 73, 73, 71, 75, 77, 72, 69, 73, 74, 72, 70, 75, 70, 72, 72, 74, 73, 74, 76, 75, 80, 72, 75, 73, 74, 74, 73, 75, 75, 71, 73, 75, 74, 74, 72, 74, 74, 74, 73, 76, 75, 72, 73, 73, 73, 72, 72, 72, 72, 71, 75, 75, 74, 73, 75, 79, 74, 76, 73, 74, 74, 72, 74, 74, 75, 78, 74, 74, 74, 77, 70, 73, 74, 73, 71, 75, 71, 72, 77, 74, 70, 77, 73, 72, 76, 71, 76, 78, 75, 73, 78, 74, 79, 75, 76, 72, 75, 75, 70, 72, 70, 74, 71, 76, 73, 76, 71, 69, 72, 72, 69, 73, 69, 73, 74, 74, 72, 71, 72, 72, 76, 76, 76, 74, 76, 75, 71, 72, 71, 73, 75, 76, 75, 71, 75, 74, 72, 73, 73, 73, 73, 76, 72, 76, 73, 73, 73, 75, 75, 77, 73, 72, 75, 70, 74, 72, 80, 71, 71, 74, 74, 73, 75, 76, 73, 77, 72, 73, 77, 76, 71, 75, 73, 74, 77, 71, 72, 73, 69, 73, 70, 74, 76, 73, 73, 75, 73, 79, 74, 73, 74, 77, 75, 74, 73, 77, 73, 77, 74, 74, 73, 77, 74, 77, 75, 77, 75, 71, 74, 70, 79, 72, 72, 70, 74, 74, 72, 73, 72, 74, 74, 76, 82, 74, 74, 70, 73, 73, 74, 77, 72, 76, 73, 73, 72, 74, 74, 71, 72, 75, 74, 74, 77, 70, 71, 73, 76, 71, 75, 74, 72, 76, 79, 76, 73, 76, 78, 75, 76, 72, 72, 73, 73, 75, 71, 76, 70, 75, 74, 75, 73, 71, 71, 72, 73, 73, 72, 69, 73, 78, 71, 73, 75, 76, 70, 74, 77, 75, 79, 72, 77, 73, 75, 75, 75, 73, 73, 76, 77, 75, 70, 71, 71, 75, 74, 69, 70, 75, 72, 75, 73, 72, 72, 72, 76, 75, 74, 69, 73, 72, 72, 75, 77, 76, 80, 77, 76, 79, 71, 75, 73, 76, 77, 73, 76, 70, 75, 73, 75, 70, 69, 71, 72, 72, 73, 70, 70, 73, 76, 75, 72, 73, 79, 71, 72, 74, 74, 74, 72, 76, 76, 72, 72, 71, 72, 72, 70, 77, 74, 72, 76, 71, 76, 71, 73, 70, 73, 73, 72, 71, 71, 71, 72, 72, 74, 74, 74, 71, 72, 75, 72, 71, 72, 72, 72, 72, 74, 74, 77, 75, 73, 75, 73, 76, 72, 77, 75, 72, 71, 71, 75, 72, 73, 73, 71, 70, 75, 71, 76, 73, 68, 71, 72, 74, 77, 72, 76, 78, 81, 72, 73, 76, 72, 72, 74, 76, 73, 76, 75, 70, 71, 74, 72, 73, 76, 76, 73, 71, 68, 71, 71, 74, 77, 69, 72, 76, 75, 76, 75, 76, 72, 74, 76, 74, 72, 75, 78, 77, 70, 72, 79, 74, 71, 68, 77, 75, 71, 72, 70, 72, 72, 73, 72, 74, 72, 72, 75, 72, 73, 74, 72, 78, 75, 72, 74, 75, 75, 76, 74, 74, 73, 74, 71, 74, 75, 76, 74, 76, 76, 73, 75, 75, 74, 68, 72, 75, 71, 70, 72, 73, 72, 75, 74, 70, 76, 71, 82, 72, 73, 74, 71, 75, 77, 72, 74, 72, 73, 78, 77, 73, 73, 73, 73, 73, 76, 75, 70, 73, 72, 73, 75, 74, 73, 73, 76, 73, 75, 70, 77, 72, 77, 74, 75, 75, 75, 75, 72, 74, 71, 76, 71, 75, 76, 83, 75, 74, 76, 72, 72, 75, 75, 72, 77, 73, 72, 70, 74, 72, 74, 72, 71, 70, 71, 76, 74, 76, 74, 74, 74, 75, 75, 71, 71, 74, 77, 71, 74, 75, 77, 76, 74, 76, 72, 71, 72, 75, 73, 68, 72, 69, 73, 73, 75, 70, 70, 74, 75, 74, 74, 73, 74, 75, 77, 73, 74, 76, 74, 75, 73, 76, 78, 75, 73, 77, 74, 72, 74, 72, 71, 73, 75, 73, 67, 67, 76, 74, 73, 70, 75, 70, 72, 77, 79, 78, 74, 75, 75, 78, 76, 75, 69, 75, 72, 75, 73, 74, 75, 75, 73]\n"
          ]
        }
      ]
    },
    {
      "cell_type": "code",
      "execution_count": null,
      "metadata": {
        "colab": {
          "base_uri": "https://localhost:8080/"
        },
        "id": "tfi7-VPdrHir",
        "outputId": "fd05042d-d4df-4425-9b10-e2d783fa6001"
      },
      "outputs": [
        {
          "output_type": "stream",
          "name": "stdout",
          "text": [
            "[74 74 72 ... 75 75 73]\n",
            "[1.8796 1.8796 1.8288 ... 1.905  1.905  1.8542]\n",
            "1.8796\n"
          ]
        }
      ],
      "source": [
        "# height esta disponible como una lista\n",
        "\n",
        "# Importa el paquete numpy\n",
        "import numpy as np\n",
        "\n",
        "# Crea un array numpy de height: np_height\n",
        "\n",
        "\n",
        "# Imprime np_height\n",
        "\n",
        "\n",
        "# Convierte np_height a m: np_height_m\n",
        "\n",
        "# Imprime np_height_m\n",
        "\n",
        "# Imprimir el primer elemento de np_height_m\n"
      ]
    },
    {
      "cell_type": "markdown",
      "metadata": {
        "id": "7FwT3DGorHis"
      },
      "source": [
        "## 3.- IMC de los jugadores de béisbol\n",
        "La MLB también ofrece los datos de pesos de sus jugadores. De nuevo, ambos están disponibles como listas de Python: height y weight. height está en pulgadas y weight en libras.\n",
        "\n",
        "Ahora es posible calcular el IMC (Índice de masa corporal o BMI en inglés) para cada jugador de béisbol. El código en Python para convertir height a un array numpycon las unidades correctas ya se encuentra disponible en el espacio de trabajo. ¡Sigue las instrucciones paso a paso para termina el juego!"
      ]
    },
    {
      "cell_type": "markdown",
      "metadata": {
        "id": "nPIOZ-dSrHis"
      },
      "source": [
        "- Crea un array numpy de la lista weight con las unidades correctas. Multiplica por 0.453592 para convertir de libras a kilogramos. Guarda el resultado del array numpy como np_weight_kg.\n",
        "- Utiliza np_height_m y np_weight_kg para calcular el IMC de cada jugador. Usa la siguiente ecuación:\n",
        "\n",
        "$$BMI=\\frac{weight(kg)}{height(m)^{2}}$$"
      ]
    },
    {
      "cell_type": "code",
      "execution_count": null,
      "metadata": {
        "colab": {
          "base_uri": "https://localhost:8080/"
        },
        "id": "axM-5kXCrHis",
        "outputId": "f182c4bb-69e5-4029-ec06-6f6a121ab377"
      },
      "outputs": [
        {
          "output_type": "stream",
          "name": "stdout",
          "text": [
            "[23.11037639 27.60406069 28.48080465 ... 25.62295933 23.74810865\n",
            " 25.72686361]\n"
          ]
        }
      ],
      "source": [
        "# height y weight están disponibles como listas\n",
        "\n",
        "# Importa el paquete numpy\n",
        "import numpy as np\n",
        "\n",
        "# Crea un array de height con las unidades correctas: np_height_m\n",
        "np_height_m = np.array(height) * 0.0254\n",
        "\n",
        "# Crea un array de weight con las unidades correctas: np_weight_kg\n",
        "\n",
        "\n",
        "# Calcula el IMC: bmi\n",
        "\n",
        "\n",
        "\n",
        "# Imprime bmi\n",
        "\n",
        "\n"
      ]
    },
    {
      "cell_type": "markdown",
      "metadata": {
        "id": "m3hAlsMBrHit"
      },
      "source": [
        "##  4.- Jugadores de béisbol livianos\n",
        "Para seleccionar tanto en una lista como en un array numpy en Python, puedes utilizar los corchetes:\n",
        "\n",
        "    x = [4 , 9 , 6, 3, 1]\n",
        "    x[1]\n",
        "    import numpy as np\n",
        "    y = np.array(x)\n",
        "    y[1]\n",
        "    \n",
        "Especificamente para numpy, puedes utilizar también arrays numpy booleanos:\n",
        "    \n",
        "    high = y > 5\n",
        "    y[high]\n",
        "    \n",
        "El código que calcula el IMC de todos los jugadores de béisbol ya está incluido. ¡Sigue las instrucciones y descubre cosas interesantes de esos datos!"
      ]
    },
    {
      "cell_type": "markdown",
      "metadata": {
        "id": "sKgtvvhGrHiu"
      },
      "source": [
        "### Instrucciones\n",
        "\n",
        "- Crea un array numpy booleano: el elemento del array debería ser igual a Truesi el IMC del jugador correspondiente es menor a 21.Puedes utilizar el operador < para esto. Nombra el array como light.\n",
        "- Imprime el array light.\n",
        "- Imprime el array numpy que contiene todos los IMC de los jugadores de béisbol cuyo IMC es menor a 21. Utiliza light dentro de los corchetes para hacer una selección en el array bmi."
      ]
    },
    {
      "cell_type": "code",
      "execution_count": null,
      "metadata": {
        "colab": {
          "base_uri": "https://localhost:8080/"
        },
        "id": "kJWAqqvurHiu",
        "outputId": "89f8003d-fa35-44d5-e0ca-a8d301544ea0"
      },
      "outputs": [
        {
          "output_type": "stream",
          "name": "stdout",
          "text": [
            "[False False False ... False False False]\n",
            "[20.54255679 20.54255679 20.69282047 20.69282047 20.34343189 20.34343189\n",
            " 20.69282047 20.15883472 19.4984471  20.69282047 20.9205219 ]\n"
          ]
        }
      ],
      "source": [
        "# height y weight están disponibles como listas\n",
        "\n",
        "# Importa el paquete numpy\n",
        "import numpy as np\n",
        "\n",
        "# Calcula el IMC: bmi\n",
        "np_height_m = np.array(height) * 0.0254\n",
        "np_weight_kg = np.array(weight) * 0.453592\n",
        "bmi = np_weight_kg / np_height_m ** 2\n",
        "\n",
        "# Creaa el array light\n",
        "\n",
        "\n",
        "# Imprime light\n",
        "\n",
        "\n",
        "\n",
        "# Imprime el IMC de todos los jugadores de béisbol cuyo IMC es menor a 21\n",
        "\n"
      ]
    },
    {
      "cell_type": "markdown",
      "metadata": {
        "id": "qky9acwarHiu"
      },
      "source": [
        "## 6.- Selección en arreglos NumPy\n",
        "Lo has visto con tus propios ojos: las listas y los arrays numpy a veces se comportan de manera diferente. Afortunadamente, aún existen certezas en este mundo. Por ejemplo, seleccionar (utilizando los corchetes en listas o arrays) funciona exactamente igual. Para que lo veas por ti mismo, prueba las siguientes líneas de código en la consola de Python:\n",
        "    \n",
        "    x = [\"a\", \"b\", \"c\"]\n",
        "    x[1]\n",
        "\n",
        "    np_x = np.array(x)\n",
        "    np_x[1]\n",
        "\n",
        "El guión a la derecha ya contiene el código que importa el paquete numpy como np, y guarda tanto la altura como el peso de los jugadores de béisbol como arrays numpy."
      ]
    },
    {
      "cell_type": "markdown",
      "metadata": {
        "id": "boSflf8frHiu"
      },
      "source": [
        "### Instrucciones\n",
        "- Selecciona de np_weight: imprime el elemento en el índice 50.\n",
        "- Imprime un sub-array de np_height: este contiene los elementos en el índice 100 hasta el índice 110 incluido."
      ]
    },
    {
      "cell_type": "code",
      "execution_count": null,
      "metadata": {
        "colab": {
          "base_uri": "https://localhost:8080/"
        },
        "id": "nXUPFvoyrHiu",
        "outputId": "2e45ef2d-5c6c-4ccd-b5b2-fc653ac0ff59"
      },
      "outputs": [
        {
          "output_type": "stream",
          "name": "stdout",
          "text": [
            "200\n",
            "[73 74 72 73 69 72 73 75 75 73 72]\n",
            "75\n",
            "74\n"
          ]
        }
      ],
      "source": [
        "# height y weight están disponibles como listas\n",
        "\n",
        "# Importa el paquete numpy\n",
        "import numpy as np\n",
        "\n",
        "# Guarda las listas weight y height como arrays numpy\n",
        "np_weight = np.array(weight)\n",
        "np_height = np.array(height)\n",
        "\n",
        "# Imprime el peso del índice 50\n",
        "\n",
        "\n",
        "# Imprime un sub-array de np_height: desde el índice 100 hasta el 110 incluido.\n"
      ]
    },
    {
      "cell_type": "markdown",
      "metadata": {
        "id": "lq46Xfm6rHiv"
      },
      "source": [
        "## 7.- Tu primer array 2D con NumPy\n",
        "\n",
        "Antes de trabajar con los datos de las Grandes Ligas de Béisbol, vamos a intentar crear un array 2D numpy de una pequeña lista de listas.\n",
        "\n",
        "En este ejercicio, baseball es una lista de listas. La lista principal contiene cuatro elementos. Cada uno de estos elementos es una lista que contiene la altura y el peso de cuatro jugadores de béisbol, en ese orden. baseball ya se encuentra definida para ti en el guión.\n",
        "\n",
        "### Instrucciones\n",
        "\n",
        "- Usa np.array() para crear un array 2D numpy de baseball. Llamalo np_baseball.\n",
        "- Imprime el tipo de np_baseball.\n",
        "- Imprime el atributo shape de np_baseball. Utiliza np_baseball.shape.\n"
      ]
    },
    {
      "cell_type": "code",
      "execution_count": null,
      "metadata": {
        "colab": {
          "base_uri": "https://localhost:8080/"
        },
        "id": "h7drSbEMrHiv",
        "outputId": "a6b6f5f2-0d7d-4476-f4fe-1f682325a0be"
      },
      "outputs": [
        {
          "output_type": "stream",
          "name": "stdout",
          "text": [
            "<class 'numpy.ndarray'>\n",
            "(4, 2)\n"
          ]
        }
      ],
      "source": [
        "# Crea baseball, una lista de listas\n",
        "baseball = [[180, 78.4],\n",
        "            [215, 102.7],\n",
        "            [210, 98.5],\n",
        "            [188, 75.2]]\n",
        "\n",
        "# Importa el paquete numpy\n",
        "import numpy as np\n",
        "\n",
        "# Crea un array 2D numpy de baseball: np_baseball\n",
        "\n",
        "\n",
        "# Imprime el tipo de np_baseball\n",
        "\n",
        "\n",
        "# Imprime las dimensiones de np_baseball\n",
        "\n"
      ]
    },
    {
      "cell_type": "markdown",
      "metadata": {
        "id": "mCuzCiPprHiv"
      },
      "source": [
        "## 8.- Datos de béisbol en 2D\n",
        "has echado otra mirada a los datos de las Grandes Ligas de Béisbol (MLB) y te das cuenta que tiene más sentido reestructurar toda esa información en un array 2D numpy. Este array debería tener 1015 filas, correspondientes a los 1015 jugadores de béisbol de los cuales tienes información, y dos columnas (para la altura y el peso).\n",
        "\n",
        "La MLB fue, de nuevo, muy útil y le pasó los datos en una estructura diferente, una lista de listas en Python. En esta lista de listas, cada sublista representa la altura y el peso de un solo jugador de béisbol. El nombre de esta lista embebida es baseball.\n",
        "\n",
        "¿Puedes almacenar la información como un array 2D para desbloquear las funcionalidades extras de numpy?\n",
        "\n",
        "### Instrucciones\n",
        "\n",
        "- Utiliza np.array() para crear un array 2D numpy de la lista baseball. Llamalo np_baseball.\n",
        "- Imprime el atributo shape de np_baseball."
      ]
    },
    {
      "cell_type": "code",
      "execution_count": null,
      "metadata": {
        "colab": {
          "base_uri": "https://localhost:8080/"
        },
        "id": "PWYje6w_rHiv",
        "outputId": "646ec3fa-c53b-4d89-a0ee-b5bf4a05d35e"
      },
      "outputs": [
        {
          "output_type": "stream",
          "name": "stdout",
          "text": [
            "(1015, 2)\n"
          ]
        }
      ],
      "source": [
        "# baseball esta disponible como una lista de listas\n",
        "\n",
        "# Importa el paquete numpy\n",
        "import numpy as np\n",
        "\n",
        "# Ejecutar este bloque para que funcione ejemplos posteriores\n",
        "from data import *\n",
        "\n",
        "# Crea un array 2D numpy de baseball: np_baseball\n",
        "\n",
        "\n",
        "# Imprime las dimensiones de np_baseball\n",
        "\n",
        "\n"
      ]
    },
    {
      "cell_type": "markdown",
      "metadata": {
        "id": "uRbc9pvBrHiv"
      },
      "source": [
        "## 9.- Selección de array 2D con NumPy\n",
        "Si tu array numpy tiene una estructura regular, por ejemplo, cada fila y columna tiene un valor fijo de valores, formas complicadas de selección se vuelven muy fáciles. Mira el código de abajo, donde los elementos \"a\" y \"c\" son extraídos de una lista de listas.\n",
        "\n",
        "    # Una lista de listas común\n",
        "    x = [[\"a\", \"b\"], [\"c\", \"d\"]]\n",
        "    [x[0][0], x[1][0]]\n",
        "\n",
        "    # numpy\n",
        "    import numpy as np\n",
        "    np_x = np.array(x)\n",
        "    np_x[:,0]\n",
        "    \n",
        "Para una lista común de Python, esto es un dolor de cabeza. Para arrays 2D numpy, ¡El tema se vuelve más intuitivo!. Los índices antes de la coma se refieren a las filas mientras que los que le siguen se refieren a las columnas. El : es utilizado para seleccionar; en este ejemplo, le dice a Python que selecciona todas las filas.\n",
        "\n",
        "El código que convierte la lista precargada baseball en un array 2D numpy ya se encuentra disponible en el guión. La primera columna contiene la altura de los jugadores en pulgadas y la segunda columna contiene el peso de los jugadores en libras. Agrega algunas líneas de código para hacer las respectivas correciones. Recuerda que en Python, ¡El primer elemento está en el índice 0!\n",
        "\n",
        "### Instrucciones\n",
        "\n",
        "- Imprime la fila N°50 de np_baseball.\n",
        "- Crea una nueva variable, np_weight, la cual contiene toda la segunda columna de np_baseball.\n",
        "- Selecciona la altura (primera columna) del jugador N°124 en np_baseball e imprimelo.\n"
      ]
    },
    {
      "cell_type": "code",
      "execution_count": null,
      "metadata": {
        "colab": {
          "base_uri": "https://localhost:8080/"
        },
        "id": "1lnUyAwwrHiv",
        "outputId": "2b8dd27f-4f71-4912-f15d-4925e3bd09ce"
      },
      "outputs": [
        {
          "output_type": "stream",
          "name": "stdout",
          "text": [
            "[ 74 180]\n",
            "[ 73 195]\n",
            "[ 70 195]\n",
            "[180 215 210 ... 205 190 195]\n",
            "75\n"
          ]
        }
      ],
      "source": [
        "# baseball está disponible como una lista de listas.\n",
        "\n",
        "# Importa el paquete numpy\n",
        "import numpy as np\n",
        "\n",
        "# Crea np_baseball (2 columnas)\n",
        "np_baseball = np.array(baseball)\n",
        "\n",
        "# imprimir la primera fila\n",
        "\n",
        "\n",
        "# imprimir la última fila\n",
        "\n",
        "\n",
        "\n",
        "# Imprime la fila N°50 de np_baseball\n",
        "\n",
        "\n",
        "\n",
        "# Selecciona toda la segunda columna de np_baseball: np_weight\n",
        "\n",
        "\n",
        "# Imprime la altura del jugador N°124\n"
      ]
    },
    {
      "cell_type": "markdown",
      "source": [
        "## Generación de matrices"
      ],
      "metadata": {
        "id": "ANC5TqEJER28"
      }
    },
    {
      "cell_type": "code",
      "source": [
        "# generación de una matriz con números aleatorios\n",
        "T = np.random.rand(6, 7)\n",
        "print(T)"
      ],
      "metadata": {
        "id": "dOTNlPfP2Pb6"
      },
      "execution_count": null,
      "outputs": []
    },
    {
      "cell_type": "code",
      "source": [
        "filas, columnas = T.shape\n",
        "print(filas)\n",
        "print(columnas)"
      ],
      "metadata": {
        "id": "KATguiNv3FQo"
      },
      "execution_count": null,
      "outputs": []
    },
    {
      "cell_type": "code",
      "source": [
        "np.random.randint(1, 20, (4, 4))"
      ],
      "metadata": {
        "id": "47nl8tvK3qSf"
      },
      "execution_count": null,
      "outputs": []
    },
    {
      "cell_type": "code",
      "source": [
        "np.zeros((2, 4))"
      ],
      "metadata": {
        "id": "UR2juA5X4qHi"
      },
      "execution_count": null,
      "outputs": []
    },
    {
      "cell_type": "code",
      "source": [
        "np.ones((1, 4))"
      ],
      "metadata": {
        "id": "k7Ca30aM4ti2"
      },
      "execution_count": null,
      "outputs": []
    },
    {
      "cell_type": "code",
      "source": [
        "array = np.arange(10)\n",
        "print(array)"
      ],
      "metadata": {
        "id": "Km6o2c_ktTtW"
      },
      "execution_count": null,
      "outputs": []
    },
    {
      "cell_type": "code",
      "source": [
        "array = np.arange(10)\n",
        "print(array)"
      ],
      "metadata": {
        "id": "HuG6wCDatWzk"
      },
      "execution_count": null,
      "outputs": []
    },
    {
      "cell_type": "code",
      "source": [
        "np.arange(0,11,3)"
      ],
      "metadata": {
        "id": "aCFVLO6ytasG"
      },
      "execution_count": null,
      "outputs": []
    },
    {
      "cell_type": "code",
      "source": [
        "np.linspace(0, 10, 100)"
      ],
      "metadata": {
        "id": "72tcyJnqtdYc"
      },
      "execution_count": null,
      "outputs": []
    },
    {
      "cell_type": "code",
      "source": [
        "np.linspace(0, 1, num=10)"
      ],
      "metadata": {
        "id": "3MYIpAjFtiZm"
      },
      "execution_count": null,
      "outputs": []
    },
    {
      "cell_type": "code",
      "source": [
        "np.logspace(0, 3)\n"
      ],
      "metadata": {
        "id": "hEEir0k5tk0a"
      },
      "execution_count": null,
      "outputs": []
    },
    {
      "cell_type": "code",
      "source": [
        "a = np.arange(1,10).reshape(3, 3)\n",
        "print(a)"
      ],
      "metadata": {
        "id": "lCxrxYi5toVR"
      },
      "execution_count": null,
      "outputs": []
    },
    {
      "cell_type": "code",
      "source": [
        "# También funciona como método\n",
        "N = a.reshape([3,3])\n",
        "N = a.reshape(3,3)\n",
        "N"
      ],
      "metadata": {
        "id": "2k5RoXtqtvz7"
      },
      "execution_count": null,
      "outputs": []
    },
    {
      "cell_type": "code",
      "source": [
        "# lectura de matriz desde teclado\n",
        "np_edades = np.array(eval(input('Ingrese la matriz de edades: ')))\n",
        "print(np_edades)"
      ],
      "metadata": {
        "id": "4cFy2AY947Pu"
      },
      "execution_count": null,
      "outputs": []
    },
    {
      "cell_type": "code",
      "source": [
        "eval('2+3+5+6+7')"
      ],
      "metadata": {
        "id": "ITa3Uo9R5FFX"
      },
      "execution_count": null,
      "outputs": []
    },
    {
      "cell_type": "code",
      "source": [
        "filas = int(input('Número de filas: '))\n",
        "columnas = int(input('Número de columnas: '))\n",
        "\n",
        "np_edades = np.zeros([filas, columnas])\n",
        "for f in range(len(np_edades)):\n",
        "  for c in range(len(np_edades[0])):\n",
        "    np_edades[f, c] = int(input(f'[{f},{c}]: '))\n",
        "\n",
        "print(np_edades)"
      ],
      "metadata": {
        "id": "bcOqQe3P5H_e"
      },
      "execution_count": null,
      "outputs": []
    },
    {
      "cell_type": "code",
      "source": [
        "print(np_table)"
      ],
      "metadata": {
        "id": "BxpeiDDh7rp4"
      },
      "execution_count": null,
      "outputs": []
    },
    {
      "cell_type": "code",
      "source": [
        "np_table[2, :]"
      ],
      "metadata": {
        "id": "jABG6jRB7vhR"
      },
      "execution_count": null,
      "outputs": []
    },
    {
      "cell_type": "code",
      "source": [
        "print(np_table[:, 3])"
      ],
      "metadata": {
        "id": "U3z0U2fABo-D"
      },
      "execution_count": null,
      "outputs": []
    },
    {
      "cell_type": "code",
      "source": [
        "np_table[:, -1]"
      ],
      "metadata": {
        "id": "wi8DUg2UBv3c"
      },
      "execution_count": null,
      "outputs": []
    },
    {
      "cell_type": "markdown",
      "metadata": {
        "id": "UZZ3X3AwrHiw"
      },
      "source": [
        "## Referencia\n",
        "\n",
        "- Bojato, M. (s. f.). Introducción a Python (practice) - DataCamp. Recuperado 8 de julio de 2019, de 2018 website: https://www.datacamp.com/community/open-courses/introduccion-a-python"
      ]
    }
  ],
  "metadata": {
    "kernelspec": {
      "display_name": "Python 3 (ipykernel)",
      "language": "python",
      "name": "python3"
    },
    "language_info": {
      "codemirror_mode": {
        "name": "ipython",
        "version": 3
      },
      "file_extension": ".py",
      "mimetype": "text/x-python",
      "name": "python",
      "nbconvert_exporter": "python",
      "pygments_lexer": "ipython3",
      "version": "3.9.7"
    },
    "colab": {
      "provenance": [],
      "include_colab_link": true
    }
  },
  "nbformat": 4,
  "nbformat_minor": 0
}